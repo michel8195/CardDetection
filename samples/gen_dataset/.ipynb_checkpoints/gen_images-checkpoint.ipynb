{
 "cells": [
  {
   "cell_type": "code",
   "execution_count": 2,
   "metadata": {},
   "outputs": [
    {
     "name": "stdout",
     "output_type": "stream",
     "text": [
      "['1c', '2c', '3c', '4c', '5c', '6c', '7c', '8c', '9c']\n"
     ]
    }
   ],
   "source": [
    "import os\n",
    "import random\n",
    "import cv2\n",
    "import pickle\n",
    "from helper_images import extract_cards_from_video\n",
    "from glob import glob\n",
    "from config import *"
   ]
  },
  {
   "cell_type": "markdown",
   "metadata": {},
   "source": [
    "# Exract cards images form video"
   ]
  },
  {
   "cell_type": "markdown",
   "metadata": {},
   "source": [
    "We load all the videos in `video_dir` named `card_name.extension`\n",
    "\n",
    "We extract frames for this video every `keep_ratio` frames.\n",
    "\n",
    "For each card, the images will be placed in a subdirectory named 'card_name' placed in the directory 'imgs_dir'"
   ]
  },
  {
   "cell_type": "code",
   "execution_count": 15,
   "metadata": {},
   "outputs": [
    {
     "name": "stdout",
     "output_type": "stream",
     "text": [
      "Extracted images for 1c : 41\n",
      "Extracted images for 2c : 69\n",
      "Extracted images for 3c : 51\n",
      "Extracted images for 4c : 30\n",
      "Extracted images for 5c : 70\n",
      "Extracted images for 6c : 61\n",
      "Extracted images for 7c : 69\n",
      "Extracted images for 8c : 63\n",
      "Extracted images for 9c : 61\n"
     ]
    }
   ],
   "source": [
    "# Directory that will contain all kinds of data (the data we download and the data we generate)\n",
    "data_dir = \"./../data/\"\n",
    "video_dir = os.path.join(data_dir, \"cards_video\")\n",
    "extension = \"mp4\"\n",
    "imgs_dir = os.path.join(data_dir, \"cards\")\n",
    "\n",
    "if not os.path.exists(imgs_dir):\n",
    "    os.makedirs(imgs_dir)\n",
    "\n",
    "# list_cards is defined in \n",
    "for card_name in list_cards:        \n",
    "        video_fn=os.path.join(video_dir,card_name+\".\"+extension)\n",
    "        output_dir=os.path.join(imgs_dir,card_name)\n",
    "        if not os.path.isdir(output_dir):\n",
    "            os.makedirs(output_dir)\n",
    "        imgs=extract_cards_from_video(video_fn,output_dir, keep_ratio=3)\n",
    "        print(\"Extracted images for %s : %d\"%(card_name,len(imgs)))"
   ]
  },
  {
   "cell_type": "markdown",
   "metadata": {},
   "source": [
    "# Create a cards.pickle file"
   ]
  },
  {
   "cell_type": "markdown",
   "metadata": {},
   "source": [
    "Take a sample with size 'num_images_per_card' from each card folder and save all the arrays a in a dictionary with 'card_name' as keys\n",
    "\n",
    "Save the dicitonary in a pickle file placed in 'data_dir'"
   ]
  },
  {
   "cell_type": "code",
   "execution_count": 6,
   "metadata": {},
   "outputs": [
    {
     "name": "stdout",
     "output_type": "stream",
     "text": [
      "Nb images for 1c : 15\n",
      "Nb images for 2c : 15\n",
      "Nb images for 3c : 15\n",
      "Nb images for 4c : 15\n",
      "Nb images for 5c : 15\n",
      "Nb images for 6c : 15\n",
      "Nb images for 7c : 15\n",
      "Nb images for 8c : 15\n",
      "Nb images for 9c : 15\n",
      "Saved in : ./../data/cards.pck\n"
     ]
    }
   ],
   "source": [
    "num_images_per_card = 15\n",
    "\n",
    "pickle_name = 'cards.pck'\n",
    "\n",
    "cards={}\n",
    "for suit in card_suits:\n",
    "    for value in card_values:\n",
    "        card_name=value+suit        \n",
    "        card_dir=os.path.join(imgs_dir,card_name)\n",
    "        if not os.path.isdir(card_dir):\n",
    "            print(f\"!!! {card_dir} does not exist !!!\")\n",
    "            continue\n",
    "        cards[card_name]=[]\n",
    "        for f in random.sample(glob(card_dir+\"/*.png\"), num_images_per_card):\n",
    "        #for f in glob(card_dir+\"/*.png\"):\n",
    "            img=cv2.imread(f,cv2.IMREAD_UNCHANGED)\n",
    "            # We store the image in \"rgb\" format (we don't need opencv anymore)\n",
    "            img=cv2.cvtColor(img,cv2.COLOR_BGRA2RGBA)\n",
    "          #  print(img.shape)\n",
    "            cards[card_name].append((img,1,1))\n",
    "        print(f\"Nb images for {card_name} : {len(cards[card_name])}\")\n",
    "\n",
    "        \n",
    "cards_pck_fn = data_dir + pickle_name\n",
    "print(\"Saved in :\",cards_pck_fn)\n",
    "pickle.dump(cards,open(cards_pck_fn,'wb'))\n",
    "\n",
    "cv2.destroyAllWindows()"
   ]
  },
  {
   "cell_type": "markdown",
   "metadata": {},
   "source": [
    "# Create backgrounds.pickle file"
   ]
  },
  {
   "cell_type": "code",
   "execution_count": 14,
   "metadata": {},
   "outputs": [
    {
     "name": "stdout",
     "output_type": "stream",
     "text": [
      "Nb of images loaded : 135\n",
      "Saved in : ./../data/backgrounds.pck\n"
     ]
    }
   ],
   "source": [
    "import matplotlib.image as mpimg\n",
    "\n",
    "dtd_dir=\"../data/backgrounds\"\n",
    "\n",
    "backgrounds_name = 'backgrounds.pck'\n",
    "\n",
    "backgrounds_pck_fn = data_dir + backgrounds_name\n",
    "\n",
    "bg_images=[]\n",
    "for f in glob(dtd_dir+\"/*.jpg\"):\n",
    "    bg_images.append(mpimg.imread(f))\n",
    "print(\"Nb of images loaded :\",len(bg_images))\n",
    "print(\"Saved in :\",backgrounds_pck_fn)\n",
    "pickle.dump(bg_images,open(backgrounds_pck_fn,'wb'))"
   ]
  },
  {
   "cell_type": "code",
   "execution_count": null,
   "metadata": {},
   "outputs": [],
   "source": []
  }
 ],
 "metadata": {
  "kernelspec": {
   "display_name": "Python 3",
   "language": "python",
   "name": "python3"
  },
  "language_info": {
   "codemirror_mode": {
    "name": "ipython",
    "version": 3
   },
   "file_extension": ".py",
   "mimetype": "text/x-python",
   "name": "python",
   "nbconvert_exporter": "python",
   "pygments_lexer": "ipython3",
   "version": "3.6.6"
  },
  "toc": {
   "base_numbering": 1,
   "nav_menu": {},
   "number_sections": true,
   "sideBar": true,
   "skip_h1_title": false,
   "title_cell": "Table of Contents",
   "title_sidebar": "Contents",
   "toc_cell": false,
   "toc_position": {
    "height": "calc(100% - 180px)",
    "left": "10px",
    "top": "150px",
    "width": "260.2px"
   },
   "toc_section_display": true,
   "toc_window_display": true
  }
 },
 "nbformat": 4,
 "nbformat_minor": 2
}
